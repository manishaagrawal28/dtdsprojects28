{
 "cells": [
  {
   "cell_type": "code",
   "execution_count": 1,
   "metadata": {},
   "outputs": [],
   "source": [
    "#importing pandas library\n",
    "import warnings\n",
    "warnings.filterwarnings('ignore')\n",
    "import pandas as pd"
   ]
  },
  {
   "cell_type": "code",
   "execution_count": 2,
   "metadata": {},
   "outputs": [
    {
     "data": {
      "text/html": [
       "<div>\n",
       "<style scoped>\n",
       "    .dataframe tbody tr th:only-of-type {\n",
       "        vertical-align: middle;\n",
       "    }\n",
       "\n",
       "    .dataframe tbody tr th {\n",
       "        vertical-align: top;\n",
       "    }\n",
       "\n",
       "    .dataframe thead th {\n",
       "        text-align: right;\n",
       "    }\n",
       "</style>\n",
       "<table border=\"1\" class=\"dataframe\">\n",
       "  <thead>\n",
       "    <tr style=\"text-align: right;\">\n",
       "      <th></th>\n",
       "      <th>TV</th>\n",
       "      <th>radio</th>\n",
       "      <th>newspaper</th>\n",
       "      <th>sales</th>\n",
       "    </tr>\n",
       "    <tr>\n",
       "      <th>Sno</th>\n",
       "      <th></th>\n",
       "      <th></th>\n",
       "      <th></th>\n",
       "      <th></th>\n",
       "    </tr>\n",
       "  </thead>\n",
       "  <tbody>\n",
       "    <tr>\n",
       "      <th>1</th>\n",
       "      <td>230.1</td>\n",
       "      <td>37.8</td>\n",
       "      <td>69.2</td>\n",
       "      <td>22.1</td>\n",
       "    </tr>\n",
       "    <tr>\n",
       "      <th>2</th>\n",
       "      <td>44.5</td>\n",
       "      <td>39.3</td>\n",
       "      <td>45.1</td>\n",
       "      <td>10.4</td>\n",
       "    </tr>\n",
       "    <tr>\n",
       "      <th>3</th>\n",
       "      <td>17.2</td>\n",
       "      <td>45.9</td>\n",
       "      <td>69.3</td>\n",
       "      <td>9.3</td>\n",
       "    </tr>\n",
       "    <tr>\n",
       "      <th>4</th>\n",
       "      <td>151.5</td>\n",
       "      <td>41.3</td>\n",
       "      <td>58.5</td>\n",
       "      <td>18.5</td>\n",
       "    </tr>\n",
       "    <tr>\n",
       "      <th>5</th>\n",
       "      <td>180.8</td>\n",
       "      <td>10.8</td>\n",
       "      <td>58.4</td>\n",
       "      <td>12.9</td>\n",
       "    </tr>\n",
       "    <tr>\n",
       "      <th>6</th>\n",
       "      <td>8.7</td>\n",
       "      <td>48.9</td>\n",
       "      <td>75.0</td>\n",
       "      <td>7.2</td>\n",
       "    </tr>\n",
       "    <tr>\n",
       "      <th>7</th>\n",
       "      <td>57.5</td>\n",
       "      <td>32.8</td>\n",
       "      <td>23.5</td>\n",
       "      <td>11.8</td>\n",
       "    </tr>\n",
       "    <tr>\n",
       "      <th>8</th>\n",
       "      <td>120.2</td>\n",
       "      <td>19.6</td>\n",
       "      <td>11.6</td>\n",
       "      <td>13.2</td>\n",
       "    </tr>\n",
       "    <tr>\n",
       "      <th>9</th>\n",
       "      <td>8.6</td>\n",
       "      <td>2.1</td>\n",
       "      <td>1.0</td>\n",
       "      <td>4.8</td>\n",
       "    </tr>\n",
       "    <tr>\n",
       "      <th>10</th>\n",
       "      <td>199.8</td>\n",
       "      <td>2.6</td>\n",
       "      <td>21.2</td>\n",
       "      <td>10.6</td>\n",
       "    </tr>\n",
       "    <tr>\n",
       "      <th>11</th>\n",
       "      <td>66.1</td>\n",
       "      <td>5.8</td>\n",
       "      <td>24.2</td>\n",
       "      <td>8.6</td>\n",
       "    </tr>\n",
       "    <tr>\n",
       "      <th>12</th>\n",
       "      <td>214.7</td>\n",
       "      <td>24.0</td>\n",
       "      <td>4.0</td>\n",
       "      <td>17.4</td>\n",
       "    </tr>\n",
       "    <tr>\n",
       "      <th>13</th>\n",
       "      <td>23.8</td>\n",
       "      <td>35.1</td>\n",
       "      <td>65.9</td>\n",
       "      <td>9.2</td>\n",
       "    </tr>\n",
       "    <tr>\n",
       "      <th>14</th>\n",
       "      <td>97.5</td>\n",
       "      <td>7.6</td>\n",
       "      <td>7.2</td>\n",
       "      <td>9.7</td>\n",
       "    </tr>\n",
       "    <tr>\n",
       "      <th>15</th>\n",
       "      <td>204.1</td>\n",
       "      <td>32.9</td>\n",
       "      <td>46.0</td>\n",
       "      <td>19.0</td>\n",
       "    </tr>\n",
       "    <tr>\n",
       "      <th>16</th>\n",
       "      <td>195.4</td>\n",
       "      <td>47.7</td>\n",
       "      <td>52.9</td>\n",
       "      <td>22.4</td>\n",
       "    </tr>\n",
       "    <tr>\n",
       "      <th>17</th>\n",
       "      <td>67.8</td>\n",
       "      <td>36.6</td>\n",
       "      <td>114.0</td>\n",
       "      <td>12.5</td>\n",
       "    </tr>\n",
       "    <tr>\n",
       "      <th>18</th>\n",
       "      <td>281.4</td>\n",
       "      <td>39.6</td>\n",
       "      <td>55.8</td>\n",
       "      <td>24.4</td>\n",
       "    </tr>\n",
       "    <tr>\n",
       "      <th>19</th>\n",
       "      <td>69.2</td>\n",
       "      <td>20.5</td>\n",
       "      <td>18.3</td>\n",
       "      <td>11.3</td>\n",
       "    </tr>\n",
       "    <tr>\n",
       "      <th>20</th>\n",
       "      <td>147.3</td>\n",
       "      <td>23.9</td>\n",
       "      <td>19.1</td>\n",
       "      <td>14.6</td>\n",
       "    </tr>\n",
       "    <tr>\n",
       "      <th>21</th>\n",
       "      <td>218.4</td>\n",
       "      <td>27.7</td>\n",
       "      <td>53.4</td>\n",
       "      <td>18.0</td>\n",
       "    </tr>\n",
       "    <tr>\n",
       "      <th>22</th>\n",
       "      <td>237.4</td>\n",
       "      <td>5.1</td>\n",
       "      <td>23.5</td>\n",
       "      <td>12.5</td>\n",
       "    </tr>\n",
       "    <tr>\n",
       "      <th>23</th>\n",
       "      <td>13.2</td>\n",
       "      <td>15.9</td>\n",
       "      <td>49.6</td>\n",
       "      <td>5.6</td>\n",
       "    </tr>\n",
       "    <tr>\n",
       "      <th>24</th>\n",
       "      <td>228.3</td>\n",
       "      <td>16.9</td>\n",
       "      <td>26.2</td>\n",
       "      <td>15.5</td>\n",
       "    </tr>\n",
       "    <tr>\n",
       "      <th>25</th>\n",
       "      <td>62.3</td>\n",
       "      <td>12.6</td>\n",
       "      <td>18.3</td>\n",
       "      <td>9.7</td>\n",
       "    </tr>\n",
       "    <tr>\n",
       "      <th>26</th>\n",
       "      <td>262.9</td>\n",
       "      <td>3.5</td>\n",
       "      <td>19.5</td>\n",
       "      <td>12.0</td>\n",
       "    </tr>\n",
       "    <tr>\n",
       "      <th>27</th>\n",
       "      <td>142.9</td>\n",
       "      <td>29.3</td>\n",
       "      <td>12.6</td>\n",
       "      <td>15.0</td>\n",
       "    </tr>\n",
       "    <tr>\n",
       "      <th>28</th>\n",
       "      <td>240.1</td>\n",
       "      <td>16.7</td>\n",
       "      <td>22.9</td>\n",
       "      <td>15.9</td>\n",
       "    </tr>\n",
       "    <tr>\n",
       "      <th>29</th>\n",
       "      <td>248.8</td>\n",
       "      <td>27.1</td>\n",
       "      <td>22.9</td>\n",
       "      <td>18.9</td>\n",
       "    </tr>\n",
       "    <tr>\n",
       "      <th>30</th>\n",
       "      <td>70.6</td>\n",
       "      <td>16.0</td>\n",
       "      <td>40.8</td>\n",
       "      <td>10.5</td>\n",
       "    </tr>\n",
       "    <tr>\n",
       "      <th>...</th>\n",
       "      <td>...</td>\n",
       "      <td>...</td>\n",
       "      <td>...</td>\n",
       "      <td>...</td>\n",
       "    </tr>\n",
       "    <tr>\n",
       "      <th>171</th>\n",
       "      <td>50.0</td>\n",
       "      <td>11.6</td>\n",
       "      <td>18.4</td>\n",
       "      <td>8.4</td>\n",
       "    </tr>\n",
       "    <tr>\n",
       "      <th>172</th>\n",
       "      <td>164.5</td>\n",
       "      <td>20.9</td>\n",
       "      <td>47.4</td>\n",
       "      <td>14.5</td>\n",
       "    </tr>\n",
       "    <tr>\n",
       "      <th>173</th>\n",
       "      <td>19.6</td>\n",
       "      <td>20.1</td>\n",
       "      <td>17.0</td>\n",
       "      <td>7.6</td>\n",
       "    </tr>\n",
       "    <tr>\n",
       "      <th>174</th>\n",
       "      <td>168.4</td>\n",
       "      <td>7.1</td>\n",
       "      <td>12.8</td>\n",
       "      <td>11.7</td>\n",
       "    </tr>\n",
       "    <tr>\n",
       "      <th>175</th>\n",
       "      <td>222.4</td>\n",
       "      <td>3.4</td>\n",
       "      <td>13.1</td>\n",
       "      <td>11.5</td>\n",
       "    </tr>\n",
       "    <tr>\n",
       "      <th>176</th>\n",
       "      <td>276.9</td>\n",
       "      <td>48.9</td>\n",
       "      <td>41.8</td>\n",
       "      <td>27.0</td>\n",
       "    </tr>\n",
       "    <tr>\n",
       "      <th>177</th>\n",
       "      <td>248.4</td>\n",
       "      <td>30.2</td>\n",
       "      <td>20.3</td>\n",
       "      <td>20.2</td>\n",
       "    </tr>\n",
       "    <tr>\n",
       "      <th>178</th>\n",
       "      <td>170.2</td>\n",
       "      <td>7.8</td>\n",
       "      <td>35.2</td>\n",
       "      <td>11.7</td>\n",
       "    </tr>\n",
       "    <tr>\n",
       "      <th>179</th>\n",
       "      <td>276.7</td>\n",
       "      <td>2.3</td>\n",
       "      <td>23.7</td>\n",
       "      <td>11.8</td>\n",
       "    </tr>\n",
       "    <tr>\n",
       "      <th>180</th>\n",
       "      <td>165.6</td>\n",
       "      <td>10.0</td>\n",
       "      <td>17.6</td>\n",
       "      <td>12.6</td>\n",
       "    </tr>\n",
       "    <tr>\n",
       "      <th>181</th>\n",
       "      <td>156.6</td>\n",
       "      <td>2.6</td>\n",
       "      <td>8.3</td>\n",
       "      <td>10.5</td>\n",
       "    </tr>\n",
       "    <tr>\n",
       "      <th>182</th>\n",
       "      <td>218.5</td>\n",
       "      <td>5.4</td>\n",
       "      <td>27.4</td>\n",
       "      <td>12.2</td>\n",
       "    </tr>\n",
       "    <tr>\n",
       "      <th>183</th>\n",
       "      <td>56.2</td>\n",
       "      <td>5.7</td>\n",
       "      <td>29.7</td>\n",
       "      <td>8.7</td>\n",
       "    </tr>\n",
       "    <tr>\n",
       "      <th>184</th>\n",
       "      <td>287.6</td>\n",
       "      <td>43.0</td>\n",
       "      <td>71.8</td>\n",
       "      <td>26.2</td>\n",
       "    </tr>\n",
       "    <tr>\n",
       "      <th>185</th>\n",
       "      <td>253.8</td>\n",
       "      <td>21.3</td>\n",
       "      <td>30.0</td>\n",
       "      <td>17.6</td>\n",
       "    </tr>\n",
       "    <tr>\n",
       "      <th>186</th>\n",
       "      <td>205.0</td>\n",
       "      <td>45.1</td>\n",
       "      <td>19.6</td>\n",
       "      <td>22.6</td>\n",
       "    </tr>\n",
       "    <tr>\n",
       "      <th>187</th>\n",
       "      <td>139.5</td>\n",
       "      <td>2.1</td>\n",
       "      <td>26.6</td>\n",
       "      <td>10.3</td>\n",
       "    </tr>\n",
       "    <tr>\n",
       "      <th>188</th>\n",
       "      <td>191.1</td>\n",
       "      <td>28.7</td>\n",
       "      <td>18.2</td>\n",
       "      <td>17.3</td>\n",
       "    </tr>\n",
       "    <tr>\n",
       "      <th>189</th>\n",
       "      <td>286.0</td>\n",
       "      <td>13.9</td>\n",
       "      <td>3.7</td>\n",
       "      <td>15.9</td>\n",
       "    </tr>\n",
       "    <tr>\n",
       "      <th>190</th>\n",
       "      <td>18.7</td>\n",
       "      <td>12.1</td>\n",
       "      <td>23.4</td>\n",
       "      <td>6.7</td>\n",
       "    </tr>\n",
       "    <tr>\n",
       "      <th>191</th>\n",
       "      <td>39.5</td>\n",
       "      <td>41.1</td>\n",
       "      <td>5.8</td>\n",
       "      <td>10.8</td>\n",
       "    </tr>\n",
       "    <tr>\n",
       "      <th>192</th>\n",
       "      <td>75.5</td>\n",
       "      <td>10.8</td>\n",
       "      <td>6.0</td>\n",
       "      <td>9.9</td>\n",
       "    </tr>\n",
       "    <tr>\n",
       "      <th>193</th>\n",
       "      <td>17.2</td>\n",
       "      <td>4.1</td>\n",
       "      <td>31.6</td>\n",
       "      <td>5.9</td>\n",
       "    </tr>\n",
       "    <tr>\n",
       "      <th>194</th>\n",
       "      <td>166.8</td>\n",
       "      <td>42.0</td>\n",
       "      <td>3.6</td>\n",
       "      <td>19.6</td>\n",
       "    </tr>\n",
       "    <tr>\n",
       "      <th>195</th>\n",
       "      <td>149.7</td>\n",
       "      <td>35.6</td>\n",
       "      <td>6.0</td>\n",
       "      <td>17.3</td>\n",
       "    </tr>\n",
       "    <tr>\n",
       "      <th>196</th>\n",
       "      <td>38.2</td>\n",
       "      <td>3.7</td>\n",
       "      <td>13.8</td>\n",
       "      <td>7.6</td>\n",
       "    </tr>\n",
       "    <tr>\n",
       "      <th>197</th>\n",
       "      <td>94.2</td>\n",
       "      <td>4.9</td>\n",
       "      <td>8.1</td>\n",
       "      <td>9.7</td>\n",
       "    </tr>\n",
       "    <tr>\n",
       "      <th>198</th>\n",
       "      <td>177.0</td>\n",
       "      <td>9.3</td>\n",
       "      <td>6.4</td>\n",
       "      <td>12.8</td>\n",
       "    </tr>\n",
       "    <tr>\n",
       "      <th>199</th>\n",
       "      <td>283.6</td>\n",
       "      <td>42.0</td>\n",
       "      <td>66.2</td>\n",
       "      <td>25.5</td>\n",
       "    </tr>\n",
       "    <tr>\n",
       "      <th>200</th>\n",
       "      <td>232.1</td>\n",
       "      <td>8.6</td>\n",
       "      <td>8.7</td>\n",
       "      <td>13.4</td>\n",
       "    </tr>\n",
       "  </tbody>\n",
       "</table>\n",
       "<p>200 rows × 4 columns</p>\n",
       "</div>"
      ],
      "text/plain": [
       "        TV  radio  newspaper  sales\n",
       "Sno                                \n",
       "1    230.1   37.8       69.2   22.1\n",
       "2     44.5   39.3       45.1   10.4\n",
       "3     17.2   45.9       69.3    9.3\n",
       "4    151.5   41.3       58.5   18.5\n",
       "5    180.8   10.8       58.4   12.9\n",
       "6      8.7   48.9       75.0    7.2\n",
       "7     57.5   32.8       23.5   11.8\n",
       "8    120.2   19.6       11.6   13.2\n",
       "9      8.6    2.1        1.0    4.8\n",
       "10   199.8    2.6       21.2   10.6\n",
       "11    66.1    5.8       24.2    8.6\n",
       "12   214.7   24.0        4.0   17.4\n",
       "13    23.8   35.1       65.9    9.2\n",
       "14    97.5    7.6        7.2    9.7\n",
       "15   204.1   32.9       46.0   19.0\n",
       "16   195.4   47.7       52.9   22.4\n",
       "17    67.8   36.6      114.0   12.5\n",
       "18   281.4   39.6       55.8   24.4\n",
       "19    69.2   20.5       18.3   11.3\n",
       "20   147.3   23.9       19.1   14.6\n",
       "21   218.4   27.7       53.4   18.0\n",
       "22   237.4    5.1       23.5   12.5\n",
       "23    13.2   15.9       49.6    5.6\n",
       "24   228.3   16.9       26.2   15.5\n",
       "25    62.3   12.6       18.3    9.7\n",
       "26   262.9    3.5       19.5   12.0\n",
       "27   142.9   29.3       12.6   15.0\n",
       "28   240.1   16.7       22.9   15.9\n",
       "29   248.8   27.1       22.9   18.9\n",
       "30    70.6   16.0       40.8   10.5\n",
       "..     ...    ...        ...    ...\n",
       "171   50.0   11.6       18.4    8.4\n",
       "172  164.5   20.9       47.4   14.5\n",
       "173   19.6   20.1       17.0    7.6\n",
       "174  168.4    7.1       12.8   11.7\n",
       "175  222.4    3.4       13.1   11.5\n",
       "176  276.9   48.9       41.8   27.0\n",
       "177  248.4   30.2       20.3   20.2\n",
       "178  170.2    7.8       35.2   11.7\n",
       "179  276.7    2.3       23.7   11.8\n",
       "180  165.6   10.0       17.6   12.6\n",
       "181  156.6    2.6        8.3   10.5\n",
       "182  218.5    5.4       27.4   12.2\n",
       "183   56.2    5.7       29.7    8.7\n",
       "184  287.6   43.0       71.8   26.2\n",
       "185  253.8   21.3       30.0   17.6\n",
       "186  205.0   45.1       19.6   22.6\n",
       "187  139.5    2.1       26.6   10.3\n",
       "188  191.1   28.7       18.2   17.3\n",
       "189  286.0   13.9        3.7   15.9\n",
       "190   18.7   12.1       23.4    6.7\n",
       "191   39.5   41.1        5.8   10.8\n",
       "192   75.5   10.8        6.0    9.9\n",
       "193   17.2    4.1       31.6    5.9\n",
       "194  166.8   42.0        3.6   19.6\n",
       "195  149.7   35.6        6.0   17.3\n",
       "196   38.2    3.7       13.8    7.6\n",
       "197   94.2    4.9        8.1    9.7\n",
       "198  177.0    9.3        6.4   12.8\n",
       "199  283.6   42.0       66.2   25.5\n",
       "200  232.1    8.6        8.7   13.4\n",
       "\n",
       "[200 rows x 4 columns]"
      ]
     },
     "execution_count": 2,
     "metadata": {},
     "output_type": "execute_result"
    }
   ],
   "source": [
    "#load the dataset and set the Sno column as index column\n",
    "sales=pd.read_csv('sales.csv',index_col=['Sno'])\n",
    "sales"
   ]
  },
  {
   "cell_type": "code",
   "execution_count": 3,
   "metadata": {},
   "outputs": [
    {
     "data": {
      "text/plain": [
       "(200, 4)"
      ]
     },
     "execution_count": 3,
     "metadata": {},
     "output_type": "execute_result"
    }
   ],
   "source": [
    "#shape of the dataset\n",
    "sales.shape"
   ]
  },
  {
   "cell_type": "code",
   "execution_count": 4,
   "metadata": {},
   "outputs": [
    {
     "data": {
      "text/plain": [
       "TV           float64\n",
       "radio        float64\n",
       "newspaper    float64\n",
       "sales        float64\n",
       "dtype: object"
      ]
     },
     "execution_count": 4,
     "metadata": {},
     "output_type": "execute_result"
    }
   ],
   "source": [
    "#check the datatypes\n",
    "sales.dtypes"
   ]
  },
  {
   "cell_type": "code",
   "execution_count": 5,
   "metadata": {},
   "outputs": [
    {
     "name": "stdout",
     "output_type": "stream",
     "text": [
      "<class 'pandas.core.frame.DataFrame'>\n",
      "Int64Index: 200 entries, 1 to 200\n",
      "Data columns (total 4 columns):\n",
      "TV           200 non-null float64\n",
      "radio        200 non-null float64\n",
      "newspaper    200 non-null float64\n",
      "sales        200 non-null float64\n",
      "dtypes: float64(4)\n",
      "memory usage: 7.8 KB\n"
     ]
    }
   ],
   "source": [
    "#checking information\n",
    "sales.info()"
   ]
  },
  {
   "cell_type": "code",
   "execution_count": 6,
   "metadata": {},
   "outputs": [
    {
     "data": {
      "text/plain": [
       "Index(['TV', 'radio', 'newspaper', 'sales'], dtype='object')"
      ]
     },
     "execution_count": 6,
     "metadata": {},
     "output_type": "execute_result"
    }
   ],
   "source": [
    "#check all the columnsname\n",
    "sales.columns "
   ]
  },
  {
   "cell_type": "code",
   "execution_count": 7,
   "metadata": {},
   "outputs": [
    {
     "data": {
      "text/html": [
       "<div>\n",
       "<style scoped>\n",
       "    .dataframe tbody tr th:only-of-type {\n",
       "        vertical-align: middle;\n",
       "    }\n",
       "\n",
       "    .dataframe tbody tr th {\n",
       "        vertical-align: top;\n",
       "    }\n",
       "\n",
       "    .dataframe thead th {\n",
       "        text-align: right;\n",
       "    }\n",
       "</style>\n",
       "<table border=\"1\" class=\"dataframe\">\n",
       "  <thead>\n",
       "    <tr style=\"text-align: right;\">\n",
       "      <th></th>\n",
       "      <th>TV</th>\n",
       "      <th>radio</th>\n",
       "      <th>newspaper</th>\n",
       "      <th>sales</th>\n",
       "    </tr>\n",
       "  </thead>\n",
       "  <tbody>\n",
       "    <tr>\n",
       "      <th>count</th>\n",
       "      <td>200.000000</td>\n",
       "      <td>200.000000</td>\n",
       "      <td>200.000000</td>\n",
       "      <td>200.000000</td>\n",
       "    </tr>\n",
       "    <tr>\n",
       "      <th>mean</th>\n",
       "      <td>147.042500</td>\n",
       "      <td>23.264000</td>\n",
       "      <td>30.554000</td>\n",
       "      <td>14.022500</td>\n",
       "    </tr>\n",
       "    <tr>\n",
       "      <th>std</th>\n",
       "      <td>85.854236</td>\n",
       "      <td>14.846809</td>\n",
       "      <td>21.778621</td>\n",
       "      <td>5.217457</td>\n",
       "    </tr>\n",
       "    <tr>\n",
       "      <th>min</th>\n",
       "      <td>0.700000</td>\n",
       "      <td>0.000000</td>\n",
       "      <td>0.300000</td>\n",
       "      <td>1.600000</td>\n",
       "    </tr>\n",
       "    <tr>\n",
       "      <th>25%</th>\n",
       "      <td>74.375000</td>\n",
       "      <td>9.975000</td>\n",
       "      <td>12.750000</td>\n",
       "      <td>10.375000</td>\n",
       "    </tr>\n",
       "    <tr>\n",
       "      <th>50%</th>\n",
       "      <td>149.750000</td>\n",
       "      <td>22.900000</td>\n",
       "      <td>25.750000</td>\n",
       "      <td>12.900000</td>\n",
       "    </tr>\n",
       "    <tr>\n",
       "      <th>75%</th>\n",
       "      <td>218.825000</td>\n",
       "      <td>36.525000</td>\n",
       "      <td>45.100000</td>\n",
       "      <td>17.400000</td>\n",
       "    </tr>\n",
       "    <tr>\n",
       "      <th>max</th>\n",
       "      <td>296.400000</td>\n",
       "      <td>49.600000</td>\n",
       "      <td>114.000000</td>\n",
       "      <td>27.000000</td>\n",
       "    </tr>\n",
       "  </tbody>\n",
       "</table>\n",
       "</div>"
      ],
      "text/plain": [
       "               TV       radio   newspaper       sales\n",
       "count  200.000000  200.000000  200.000000  200.000000\n",
       "mean   147.042500   23.264000   30.554000   14.022500\n",
       "std     85.854236   14.846809   21.778621    5.217457\n",
       "min      0.700000    0.000000    0.300000    1.600000\n",
       "25%     74.375000    9.975000   12.750000   10.375000\n",
       "50%    149.750000   22.900000   25.750000   12.900000\n",
       "75%    218.825000   36.525000   45.100000   17.400000\n",
       "max    296.400000   49.600000  114.000000   27.000000"
      ]
     },
     "execution_count": 7,
     "metadata": {},
     "output_type": "execute_result"
    }
   ],
   "source": [
    "#find statistical informationof each column\n",
    "sales.describe()"
   ]
  },
  {
   "cell_type": "code",
   "execution_count": 8,
   "metadata": {},
   "outputs": [
    {
     "data": {
      "text/plain": [
       "TV           0\n",
       "radio        0\n",
       "newspaper    0\n",
       "sales        0\n",
       "dtype: int64"
      ]
     },
     "execution_count": 8,
     "metadata": {},
     "output_type": "execute_result"
    }
   ],
   "source": [
    "#checking whether there is a null value or not?\n",
    "sales.isnull().sum()   #no missing data present"
   ]
  },
  {
   "cell_type": "code",
   "execution_count": 10,
   "metadata": {},
   "outputs": [
    {
     "data": {
      "text/plain": [
       "<matplotlib.axes._subplots.AxesSubplot at 0x229e5006860>"
      ]
     },
     "execution_count": 10,
     "metadata": {},
     "output_type": "execute_result"
    },
    {
     "data": {
      "image/png": "[encoded data removed]",
      "text/plain": [
       "<Figure size 432x288 with 2 Axes>"
      ]
     },
     "metadata": {},
     "output_type": "display_data"
    }
   ],
   "source": [
    "#checking null values with visualization\n",
    "import seaborn as sns\n",
    "import matplotlib.pyplot as plt\n",
    "sns.heatmap(sales.isnull())   #no missing data present"
   ]
  },
  {
   "cell_type": "code",
   "execution_count": 11,
   "metadata": {},
   "outputs": [
    {
     "data": {
      "text/plain": [
       "<matplotlib.axes._subplots.AxesSubplot at 0x229e4f292b0>"
      ]
     },
     "execution_count": 11,
     "metadata": {},
     "output_type": "execute_result"
    },
    {
     "data": {
      "image/png": "[encoded data removed]",
      "text/plain": [
       "<Figure size 432x288 with 1 Axes>"
      ]
     },
     "metadata": {},
     "output_type": "display_data"
    }
   ],
   "source": [
    "#sales through TV\n",
    "sales.plot.scatter(x='TV',y='sales')"
   ]
  },
  {
   "cell_type": "code",
   "execution_count": 12,
   "metadata": {},
   "outputs": [
    {
     "data": {
      "text/plain": [
       "<matplotlib.axes._subplots.AxesSubplot at 0x229e4f291d0>"
      ]
     },
     "execution_count": 12,
     "metadata": {},
     "output_type": "execute_result"
    },
    {
     "data": {
      "image/png": "[encoded data removed]",
      "text/plain": [
       "<Figure size 432x288 with 1 Axes>"
      ]
     },
     "metadata": {},
     "output_type": "display_data"
    }
   ],
   "source": [
    "#sales through radio\n",
    "sales.plot.scatter(x='radio',y='sales')"
   ]
  },
  {
   "cell_type": "code",
   "execution_count": 13,
   "metadata": {},
   "outputs": [
    {
     "data": {
      "text/plain": [
       "<matplotlib.axes._subplots.AxesSubplot at 0x229e62f4ba8>"
      ]
     },
     "execution_count": 13,
     "metadata": {},
     "output_type": "execute_result"
    },
    {
     "data": {
      "image/png": "[encoded data removed]",
      "text/plain": [
       "<Figure size 432x288 with 1 Axes>"
      ]
     },
     "metadata": {},
     "output_type": "display_data"
    }
   ],
   "source": [
    "#sales through newspaper\n",
    "sales.plot.scatter(x='newspaper',y='sales')"
   ]
  },
  {
   "cell_type": "code",
   "execution_count": 14,
   "metadata": {},
   "outputs": [
    {
     "data": {
      "text/plain": [
       "Text(0.5,1,'radio Histogram')"
      ]
     },
     "execution_count": 14,
     "metadata": {},
     "output_type": "execute_result"
    },
    {
     "data": {
      "image/png": "[encoded data removed]",
      "text/plain": [
       "<Figure size 432x288 with 1 Axes>"
      ]
     },
     "metadata": {},
     "output_type": "display_data"
    }
   ],
   "source": [
    "#visualization with histogram for specific columns\n",
    "plt.hist(sales['radio'],bins=20,color='g')\n",
    "plt.title('radio Histogram')"
   ]
  },
  {
   "cell_type": "code",
   "execution_count": 15,
   "metadata": {},
   "outputs": [
    {
     "data": {
      "text/plain": [
       "Text(0.5,1,'newspaper Histogram')"
      ]
     },
     "execution_count": 15,
     "metadata": {},
     "output_type": "execute_result"
    },
    {
     "data": {
      "image/png": "[encoded data removed]",
      "text/plain": [
       "<Figure size 432x288 with 1 Axes>"
      ]
     },
     "metadata": {},
     "output_type": "display_data"
    }
   ],
   "source": [
    "plt.hist(sales['newspaper'],bins=30,color='b')\n",
    "plt.title('newspaper Histogram')"
   ]
  },
  {
   "cell_type": "code",
   "execution_count": 16,
   "metadata": {},
   "outputs": [
    {
     "data": {
      "text/plain": [
       "{'bodies': [<matplotlib.collections.PolyCollection at 0x229e66cb588>],\n",
       " 'cmaxes': <matplotlib.collections.LineCollection at 0x229e66cb470>,\n",
       " 'cmins': <matplotlib.collections.LineCollection at 0x229e66cba20>,\n",
       " 'cbars': <matplotlib.collections.LineCollection at 0x229e66cbc88>}"
      ]
     },
     "execution_count": 16,
     "metadata": {},
     "output_type": "execute_result"
    },
    {
     "data": {
      "image/png": "[encoded data removed]",
      "text/plain": [
       "<Figure size 432x288 with 1 Axes>"
      ]
     },
     "metadata": {},
     "output_type": "display_data"
    }
   ],
   "source": [
    "#visualization with violin plot for radio column shows that data is mostly same\n",
    "plt.violinplot(sales['radio'])"
   ]
  },
  {
   "cell_type": "code",
   "execution_count": 17,
   "metadata": {},
   "outputs": [
    {
     "data": {
      "text/plain": [
       "{'bodies': [<matplotlib.collections.PolyCollection at 0x229e6725a90>],\n",
       " 'cmaxes': <matplotlib.collections.LineCollection at 0x229e6725978>,\n",
       " 'cmins': <matplotlib.collections.LineCollection at 0x229e6725eb8>,\n",
       " 'cbars': <matplotlib.collections.LineCollection at 0x229e672f198>}"
      ]
     },
     "execution_count": 17,
     "metadata": {},
     "output_type": "execute_result"
    },
    {
     "data": {
      "image/png": "[encoded data removed]",
      "text/plain": [
       "<Figure size 432x288 with 1 Axes>"
      ]
     },
     "metadata": {},
     "output_type": "display_data"
    }
   ],
   "source": [
    "plt.violinplot(sales['TV'])\n",
    "#shows that mostly data is between 200-250"
   ]
  },
  {
   "cell_type": "code",
   "execution_count": 18,
   "metadata": {},
   "outputs": [
    {
     "data": {
      "text/plain": [
       "{'bodies': [<matplotlib.collections.PolyCollection at 0x229e67872e8>],\n",
       " 'cmaxes': <matplotlib.collections.LineCollection at 0x229e67871d0>,\n",
       " 'cmins': <matplotlib.collections.LineCollection at 0x229e6787710>,\n",
       " 'cbars': <matplotlib.collections.LineCollection at 0x229e67879b0>}"
      ]
     },
     "execution_count": 18,
     "metadata": {},
     "output_type": "execute_result"
    },
    {
     "data": {
      "image/png": "[encoded data removed]",
      "text/plain": [
       "<Figure size 432x288 with 1 Axes>"
      ]
     },
     "metadata": {},
     "output_type": "display_data"
    }
   ],
   "source": [
    "plt.violinplot(sales['newspaper'])\n",
    "#mostly data in between 0-20"
   ]
  },
  {
   "cell_type": "code",
   "execution_count": 19,
   "metadata": {},
   "outputs": [
    {
     "data": {
      "image/png": "[encoded data removed]",
      "text/plain": [
       "<Figure size 720x720 with 9 Axes>"
      ]
     },
     "metadata": {},
     "output_type": "display_data"
    }
   ],
   "source": [
    "#visualization with histogram\n",
    "sales.hist(layout=(3,3),figsize=(10,10),bins=10)\n",
    "plt.tight_layout()"
   ]
  },
  {
   "cell_type": "code",
   "execution_count": 20,
   "metadata": {},
   "outputs": [
    {
     "data": {
      "text/plain": [
       "<matplotlib.axes._subplots.AxesSubplot at 0x229e6980c18>"
      ]
     },
     "execution_count": 20,
     "metadata": {},
     "output_type": "execute_result"
    },
    {
     "data": {
      "image/png": "[encoded data removed]",
      "text/plain": [
       "<Figure size 432x288 with 1 Axes>"
      ]
     },
     "metadata": {},
     "output_type": "display_data"
    }
   ],
   "source": [
    "#visualization with distribution for specific columns\n",
    "import warnings\n",
    "warnings.filterwarnings('ignore')\n",
    "sns.distplot(sales[\"TV\"])\n",
    "#plotting to check the skewness shows that it is skewed"
   ]
  },
  {
   "cell_type": "code",
   "execution_count": 21,
   "metadata": {},
   "outputs": [
    {
     "data": {
      "text/plain": [
       "<matplotlib.axes._subplots.AxesSubplot at 0x229e6686a20>"
      ]
     },
     "execution_count": 21,
     "metadata": {},
     "output_type": "execute_result"
    },
    {
     "data": {
      "image/png": "[encoded data removed]",
      "text/plain": [
       "<Figure size 432x288 with 1 Axes>"
      ]
     },
     "metadata": {},
     "output_type": "display_data"
    }
   ],
   "source": [
    "sns.distplot(sales[\"radio\"])\n",
    "#plotting to check the skewness shows skewed data"
   ]
  },
  {
   "cell_type": "code",
   "execution_count": 22,
   "metadata": {},
   "outputs": [
    {
     "data": {
      "text/plain": [
       "<matplotlib.axes._subplots.AxesSubplot at 0x229e6a29358>"
      ]
     },
     "execution_count": 22,
     "metadata": {},
     "output_type": "execute_result"
    },
    {
     "data": {
      "image/png": "[encoded data removed]",
      "text/plain": [
       "<Figure size 432x288 with 1 Axes>"
      ]
     },
     "metadata": {},
     "output_type": "display_data"
    }
   ],
   "source": [
    "sns.distplot(sales[\"newspaper\"])\n",
    "#slight skewness"
   ]
  },
  {
   "cell_type": "code",
   "execution_count": 23,
   "metadata": {},
   "outputs": [
    {
     "data": {
      "text/plain": [
       "<matplotlib.axes._subplots.AxesSubplot at 0x229e6ab9390>"
      ]
     },
     "execution_count": 23,
     "metadata": {},
     "output_type": "execute_result"
    },
    {
     "data": {
      "image/png": "[encoded data removed]",
      "text/plain": [
       "<Figure size 432x288 with 1 Axes>"
      ]
     },
     "metadata": {},
     "output_type": "display_data"
    }
   ],
   "source": [
    "#visualization with box plot\n",
    "sales.plot.box()  #plotting to check the outliers shows outliers are present in newspaper"
   ]
  },
  {
   "cell_type": "code",
   "execution_count": 24,
   "metadata": {},
   "outputs": [
    {
     "data": {
      "text/html": [
       "<div>\n",
       "<style scoped>\n",
       "    .dataframe tbody tr th:only-of-type {\n",
       "        vertical-align: middle;\n",
       "    }\n",
       "\n",
       "    .dataframe tbody tr th {\n",
       "        vertical-align: top;\n",
       "    }\n",
       "\n",
       "    .dataframe thead th {\n",
       "        text-align: right;\n",
       "    }\n",
       "</style>\n",
       "<table border=\"1\" class=\"dataframe\">\n",
       "  <thead>\n",
       "    <tr style=\"text-align: right;\">\n",
       "      <th></th>\n",
       "      <th>TV</th>\n",
       "      <th>radio</th>\n",
       "      <th>newspaper</th>\n",
       "      <th>sales</th>\n",
       "    </tr>\n",
       "  </thead>\n",
       "  <tbody>\n",
       "    <tr>\n",
       "      <th>TV</th>\n",
       "      <td>1.000000</td>\n",
       "      <td>0.054809</td>\n",
       "      <td>0.056648</td>\n",
       "      <td>0.782224</td>\n",
       "    </tr>\n",
       "    <tr>\n",
       "      <th>radio</th>\n",
       "      <td>0.054809</td>\n",
       "      <td>1.000000</td>\n",
       "      <td>0.354104</td>\n",
       "      <td>0.576223</td>\n",
       "    </tr>\n",
       "    <tr>\n",
       "      <th>newspaper</th>\n",
       "      <td>0.056648</td>\n",
       "      <td>0.354104</td>\n",
       "      <td>1.000000</td>\n",
       "      <td>0.228299</td>\n",
       "    </tr>\n",
       "    <tr>\n",
       "      <th>sales</th>\n",
       "      <td>0.782224</td>\n",
       "      <td>0.576223</td>\n",
       "      <td>0.228299</td>\n",
       "      <td>1.000000</td>\n",
       "    </tr>\n",
       "  </tbody>\n",
       "</table>\n",
       "</div>"
      ],
      "text/plain": [
       "                 TV     radio  newspaper     sales\n",
       "TV         1.000000  0.054809   0.056648  0.782224\n",
       "radio      0.054809  1.000000   0.354104  0.576223\n",
       "newspaper  0.056648  0.354104   1.000000  0.228299\n",
       "sales      0.782224  0.576223   0.228299  1.000000"
      ]
     },
     "execution_count": 24,
     "metadata": {},
     "output_type": "execute_result"
    }
   ],
   "source": [
    "#find the correlation matrix with every column\n",
    "sales.corr()"
   ]
  },
  {
   "cell_type": "code",
   "execution_count": 25,
   "metadata": {},
   "outputs": [
    {
     "data": {
      "text/plain": [
       "<matplotlib.axes._subplots.AxesSubplot at 0x229e6b4fac8>"
      ]
     },
     "execution_count": 25,
     "metadata": {},
     "output_type": "execute_result"
    },
    {
     "data": {
      "image/png": "[encoded data removed]",
      "text/plain": [
       "<Figure size 432x288 with 2 Axes>"
      ]
     },
     "metadata": {},
     "output_type": "display_data"
    }
   ],
   "source": [
    "#find the correlation matrix with every column with annoted value with visualization\n",
    "sns.heatmap(sales.corr(),annot=True)"
   ]
  },
  {
   "cell_type": "code",
   "execution_count": 26,
   "metadata": {},
   "outputs": [
    {
     "name": "stdout",
     "output_type": "stream",
     "text": [
      "(200, 4)\n",
      "(198, 4)\n"
     ]
    }
   ],
   "source": [
    "#removing outliers\n",
    "from scipy.stats import zscore\n",
    "z_score=abs(zscore(sales))\n",
    "print(sales.shape)\n",
    "sales_data=sales.loc[(z_score<3).all(axis=1)]\n",
    "print(sales_data.shape)\n",
    "#change in shape from 200,4 to 198,4"
   ]
  },
  {
   "cell_type": "code",
   "execution_count": 27,
   "metadata": {},
   "outputs": [
    {
     "data": {
      "text/plain": [
       "TV          -0.082332\n",
       "radio        0.114842\n",
       "newspaper    0.650112\n",
       "sales        0.407130\n",
       "dtype: float64"
      ]
     },
     "execution_count": 27,
     "metadata": {},
     "output_type": "execute_result"
    }
   ],
   "source": [
    "#checking for skewness\n",
    "sales_data.skew()  #skewed data present"
   ]
  },
  {
   "cell_type": "code",
   "execution_count": 28,
   "metadata": {},
   "outputs": [],
   "source": [
    "#removing skewness with log\n",
    "import numpy as np\n",
    "for col in sales_data.columns:\n",
    "    if sales_data.skew().loc[col]>0.55:\n",
    "        sales_data[col]=np.log1p(sales_data[col])"
   ]
  },
  {
   "cell_type": "code",
   "execution_count": 29,
   "metadata": {},
   "outputs": [
    {
     "data": {
      "text/plain": [
       "TV          -0.082332\n",
       "radio        0.114842\n",
       "newspaper   -0.839481\n",
       "sales        0.407130\n",
       "dtype: float64"
      ]
     },
     "execution_count": 29,
     "metadata": {},
     "output_type": "execute_result"
    }
   ],
   "source": [
    "#again checking for skewness\n",
    "sales_data.skew()"
   ]
  },
  {
   "cell_type": "code",
   "execution_count": 30,
   "metadata": {},
   "outputs": [],
   "source": [
    "#let separate input and output variables to be used for the problem\n",
    "x=sales_data.drop(columns=['sales'])\n",
    "x=pd.DataFrame(sales_data.iloc[:,0:3])\n",
    "y=pd.DataFrame(sales_data['sales'])"
   ]
  },
  {
   "cell_type": "code",
   "execution_count": 31,
   "metadata": {},
   "outputs": [],
   "source": [
    "#scaling down using standardscaler\n",
    "from sklearn.preprocessing import StandardScaler\n",
    "sc=StandardScaler()\n",
    "x=sc.fit_transform(x)"
   ]
  },
  {
   "cell_type": "code",
   "execution_count": 32,
   "metadata": {},
   "outputs": [],
   "source": [
    "#finding random state value with which our linear model learns maximum\n",
    "from sklearn.metrics import mean_squared_error\n",
    "from sklearn.metrics import mean_absolute_error\n",
    "from sklearn.metrics import r2_score\n",
    "from sklearn import linear_model\n",
    "from sklearn.model_selection import train_test_split\n",
    "def maxr2score(reg,x,y):\n",
    "    maxr_score=0\n",
    "    for r_state in range(42,101):\n",
    "        x_train,x_test,y_train,y_test=train_test_split(x,y,random_state=r_state,test_size=0.20)\n",
    "        reg=linear_model.LinearRegression()\n",
    "        reg.fit(x_train,y_train)\n",
    "        y_pred=reg.predict(x_test)\n",
    "        r2_scr=r2_score(y_test,y_pred)\n",
    "        print(\"r2score corresponing to\",r_state,\"is:\",r2_scr)\n",
    "        if r2_scr>maxr_score:\n",
    "            maxr_score=r2_scr\n",
    "            final_r_state=r_state\n",
    "    print()\n",
    "    print()\n",
    "    print(\"max r2score corresponding to \",final_r_state,\"is\",maxr_score) \n",
    "    return final_r_state"
   ]
  },
  {
   "cell_type": "code",
   "execution_count": 33,
   "metadata": {},
   "outputs": [
    {
     "name": "stdout",
     "output_type": "stream",
     "text": [
      "r2score corresponing to 42 is: 0.8970666097335795\n",
      "r2score corresponing to 43 is: 0.875514108511518\n",
      "r2score corresponing to 44 is: 0.8136954729988715\n",
      "r2score corresponing to 45 is: 0.8747701709836246\n",
      "r2score corresponing to 46 is: 0.8760435635037367\n",
      "r2score corresponing to 47 is: 0.8922801529772679\n",
      "r2score corresponing to 48 is: 0.8691679548334139\n",
      "r2score corresponing to 49 is: 0.8351657886512187\n",
      "r2score corresponing to 50 is: 0.8416806468747607\n",
      "r2score corresponing to 51 is: 0.8943208119337399\n",
      "r2score corresponing to 52 is: 0.8927085174889967\n",
      "r2score corresponing to 53 is: 0.8522388217803778\n",
      "r2score corresponing to 54 is: 0.8776396756211223\n",
      "r2score corresponing to 55 is: 0.8996003469705207\n",
      "r2score corresponing to 56 is: 0.8453742773081748\n",
      "r2score corresponing to 57 is: 0.8667629154605467\n",
      "r2score corresponing to 58 is: 0.9301634280978702\n",
      "r2score corresponing to 59 is: 0.9176935339971977\n",
      "r2score corresponing to 60 is: 0.8830233706520707\n",
      "r2score corresponing to 61 is: 0.8553613607912018\n",
      "r2score corresponing to 62 is: 0.8574229194204636\n",
      "r2score corresponing to 63 is: 0.8956144565291347\n",
      "r2score corresponing to 64 is: 0.9268585529471081\n",
      "r2score corresponing to 65 is: 0.8830336222815304\n",
      "r2score corresponing to 66 is: 0.8775876815954254\n",
      "r2score corresponing to 67 is: 0.9056272815825931\n",
      "r2score corresponing to 68 is: 0.8662622857155151\n",
      "r2score corresponing to 69 is: 0.9063909049763583\n",
      "r2score corresponing to 70 is: 0.9223297959140451\n",
      "r2score corresponing to 71 is: 0.8081117395981364\n",
      "r2score corresponing to 72 is: 0.9200333508381152\n",
      "r2score corresponing to 73 is: 0.8849869753077836\n",
      "r2score corresponing to 74 is: 0.9305477353493352\n",
      "r2score corresponing to 75 is: 0.8757739258392312\n",
      "r2score corresponing to 76 is: 0.8518992027024337\n",
      "r2score corresponing to 77 is: 0.9171460966645424\n",
      "r2score corresponing to 78 is: 0.7900641729898241\n",
      "r2score corresponing to 79 is: 0.9004201769385635\n",
      "r2score corresponing to 80 is: 0.9035843756197806\n",
      "r2score corresponing to 81 is: 0.9201152265727994\n",
      "r2score corresponing to 82 is: 0.8412916758765691\n",
      "r2score corresponing to 83 is: 0.8790774084440418\n",
      "r2score corresponing to 84 is: 0.9269945561410282\n",
      "r2score corresponing to 85 is: 0.7694564702755174\n",
      "r2score corresponing to 86 is: 0.9060533059352924\n",
      "r2score corresponing to 87 is: 0.8114288311425697\n",
      "r2score corresponing to 88 is: 0.8837208101620332\n",
      "r2score corresponing to 89 is: 0.8458209118348073\n",
      "r2score corresponing to 90 is: 0.9461876382106832\n",
      "r2score corresponing to 91 is: 0.896819763822841\n",
      "r2score corresponing to 92 is: 0.8930654086942554\n",
      "r2score corresponing to 93 is: 0.8449107561229214\n",
      "r2score corresponing to 94 is: 0.8689427455006709\n",
      "r2score corresponing to 95 is: 0.8476695532141059\n",
      "r2score corresponing to 96 is: 0.8535667063639673\n",
      "r2score corresponing to 97 is: 0.8978324318049781\n",
      "r2score corresponing to 98 is: 0.8427497754364746\n",
      "r2score corresponing to 99 is: 0.929544150575688\n",
      "r2score corresponing to 100 is: 0.8594546572189405\n",
      "\n",
      "\n",
      "max r2score corresponding to  90 is 0.9461876382106832\n"
     ]
    }
   ],
   "source": [
    "#calling the function\n",
    "reg=linear_model.LinearRegression()\n",
    "r_state=maxr2score(reg,x,y)"
   ]
  },
  {
   "cell_type": "code",
   "execution_count": 34,
   "metadata": {},
   "outputs": [
    {
     "data": {
      "text/plain": [
       "{'n_neighbors': 3}"
      ]
     },
     "execution_count": 34,
     "metadata": {},
     "output_type": "execute_result"
    }
   ],
   "source": [
    "#using GridSearchCV with KNR for finding best parameters\n",
    "\n",
    "from sklearn.model_selection import GridSearchCV\n",
    "from sklearn.neighbors import KNeighborsRegressor\n",
    "neighbors={\"n_neighbors\":range(1,25)}\n",
    "knr=KNeighborsRegressor()\n",
    "gknr=GridSearchCV(knr,neighbors,cv=10)\n",
    "gknr.fit(x,y)\n",
    "gknr.best_params_"
   ]
  },
  {
   "cell_type": "code",
   "execution_count": 35,
   "metadata": {},
   "outputs": [],
   "source": [
    "#creating a function to find the maximum r2score corresponding to random_state\n",
    "def maxr2_score(knr,x,y):\n",
    "    maxr_score=0\n",
    "    for r_state in range(42,101):\n",
    "        x_train,x_test,y_train,y_test=train_test_split(x,y,random_state=r_state,test_size=0.20)\n",
    "        knr=KNeighborsRegressor(n_neighbors=3)\n",
    "        knr.fit(x_train,y_train)\n",
    "        y_predict=knr.predict(x_test)\n",
    "        r2_scr=r2_score(y_test,y_predict)\n",
    "        print(\"r2score corresponing to\",r_state,\"is:\",r2_scr)\n",
    "        if r2_scr>maxr_score:\n",
    "            maxr_score=r2_scr\n",
    "            final_r_state=r_state\n",
    "    print()\n",
    "    print()\n",
    "    print(\"max r2_score corresponding to \",final_r_state,\"is\",maxr_score) \n",
    "    return final_r_state"
   ]
  },
  {
   "cell_type": "code",
   "execution_count": 36,
   "metadata": {},
   "outputs": [
    {
     "name": "stdout",
     "output_type": "stream",
     "text": [
      "r2score corresponing to 42 is: 0.9268161743229121\n",
      "r2score corresponing to 43 is: 0.8923300571411965\n",
      "r2score corresponing to 44 is: 0.8864017724975228\n",
      "r2score corresponing to 45 is: 0.8669139911161736\n",
      "r2score corresponing to 46 is: 0.9062755218384062\n",
      "r2score corresponing to 47 is: 0.9248889621521271\n",
      "r2score corresponing to 48 is: 0.8908558691469336\n",
      "r2score corresponing to 49 is: 0.8976597631282269\n",
      "r2score corresponing to 50 is: 0.9434534969822425\n",
      "r2score corresponing to 51 is: 0.9120241744551453\n",
      "r2score corresponing to 52 is: 0.9624076830306184\n",
      "r2score corresponing to 53 is: 0.8791028004683147\n",
      "r2score corresponing to 54 is: 0.9253298250306607\n",
      "r2score corresponing to 55 is: 0.9194311534103927\n",
      "r2score corresponing to 56 is: 0.8825596659672467\n",
      "r2score corresponing to 57 is: 0.868883591814182\n",
      "r2score corresponing to 58 is: 0.9593183458260599\n",
      "r2score corresponing to 59 is: 0.9491614745031938\n",
      "r2score corresponing to 60 is: 0.9034123485591391\n",
      "r2score corresponing to 61 is: 0.8752289862675624\n",
      "r2score corresponing to 62 is: 0.928420566373454\n",
      "r2score corresponing to 63 is: 0.9512457516018668\n",
      "r2score corresponing to 64 is: 0.9200990457300169\n",
      "r2score corresponing to 65 is: 0.95542015301412\n",
      "r2score corresponing to 66 is: 0.8988780422394393\n",
      "r2score corresponing to 67 is: 0.9445143550183808\n",
      "r2score corresponing to 68 is: 0.9095794660984539\n",
      "r2score corresponing to 69 is: 0.9514280690968598\n",
      "r2score corresponing to 70 is: 0.9445521817632699\n",
      "r2score corresponing to 71 is: 0.9164836594763339\n",
      "r2score corresponing to 72 is: 0.9161632334360054\n",
      "r2score corresponing to 73 is: 0.9444964779447645\n",
      "r2score corresponing to 74 is: 0.9496283847189836\n",
      "r2score corresponing to 75 is: 0.9358234265515272\n",
      "r2score corresponing to 76 is: 0.9272801170987842\n",
      "r2score corresponing to 77 is: 0.8635046037051506\n",
      "r2score corresponing to 78 is: 0.8546574678812793\n",
      "r2score corresponing to 79 is: 0.908520750772985\n",
      "r2score corresponing to 80 is: 0.9361012934916485\n",
      "r2score corresponing to 81 is: 0.9521356775391484\n",
      "r2score corresponing to 82 is: 0.884186176996381\n",
      "r2score corresponing to 83 is: 0.9004289051406165\n",
      "r2score corresponing to 84 is: 0.8424212759258002\n",
      "r2score corresponing to 85 is: 0.8924192206445981\n",
      "r2score corresponing to 86 is: 0.9565191908487575\n",
      "r2score corresponing to 87 is: 0.8902539489792882\n",
      "r2score corresponing to 88 is: 0.9372819131647487\n",
      "r2score corresponing to 89 is: 0.9349165219022848\n",
      "r2score corresponing to 90 is: 0.9262308555893902\n",
      "r2score corresponing to 91 is: 0.9394158106770011\n",
      "r2score corresponing to 92 is: 0.9544551409856656\n",
      "r2score corresponing to 93 is: 0.902111812569136\n",
      "r2score corresponing to 94 is: 0.9269316714064444\n",
      "r2score corresponing to 95 is: 0.8847295661876844\n",
      "r2score corresponing to 96 is: 0.9188734136938297\n",
      "r2score corresponing to 97 is: 0.9655239888096753\n",
      "r2score corresponing to 98 is: 0.8444080911947236\n",
      "r2score corresponing to 99 is: 0.9383009081801572\n",
      "r2score corresponing to 100 is: 0.8649904637106031\n",
      "\n",
      "\n",
      "max r2_score corresponding to  97 is 0.9655239888096753\n"
     ]
    }
   ],
   "source": [
    "#calling the function\n",
    "knr=KNeighborsRegressor(n_neighbors=3)\n",
    "r_state=maxr2_score(knr,x,y)"
   ]
  },
  {
   "cell_type": "code",
   "execution_count": 37,
   "metadata": {},
   "outputs": [
    {
     "data": {
      "text/plain": [
       "{'random_state': 13}"
      ]
     },
     "execution_count": 37,
     "metadata": {},
     "output_type": "execute_result"
    }
   ],
   "source": [
    "#Using GridSearchCV with DTR\n",
    "\n",
    "from sklearn.tree import DecisionTreeRegressor\n",
    "dtr=DecisionTreeRegressor()\n",
    "grid_param={\"random_state\":range(0,20)}\n",
    "Gdt=GridSearchCV(dtr,param_grid=grid_param,scoring='r2',cv=10)\n",
    "Gdt.fit(x,y)\n",
    "Gdt.best_params_"
   ]
  },
  {
   "cell_type": "code",
   "execution_count": 38,
   "metadata": {},
   "outputs": [],
   "source": [
    "#creating a function to find the maximum r2score corresponding to random_state\n",
    "def maxr2_score(dtr,x,y):\n",
    "    maxr_score=0\n",
    "    for r_state in range(42,101):\n",
    "        x_train,x_test,y_train,y_test=train_test_split(x,y,random_state=r_state,test_size=0.20)\n",
    "        dtr=DecisionTreeRegressor(random_state=13)\n",
    "        dtr.fit(x_train,y_train)\n",
    "        y_predict=dtr.predict(x_test)\n",
    "        r2_scr=r2_score(y_test,y_predict)\n",
    "        print(\"r2score corresponing to\",r_state,\"is:\",r2_scr)\n",
    "        if r2_scr>maxr_score:\n",
    "            maxr_score=r2_scr\n",
    "            final_r_state=r_state\n",
    "    print()\n",
    "    print()\n",
    "    print(\"max r2_score corresponding to \",final_r_state,\"is\",maxr_score) \n",
    "    return final_r_state"
   ]
  },
  {
   "cell_type": "code",
   "execution_count": 39,
   "metadata": {},
   "outputs": [
    {
     "name": "stdout",
     "output_type": "stream",
     "text": [
      "r2score corresponing to 42 is: 0.9626148928404201\n",
      "r2score corresponing to 43 is: 0.9534365184340052\n",
      "r2score corresponing to 44 is: 0.9317405866792857\n",
      "r2score corresponing to 45 is: 0.9363124933658847\n",
      "r2score corresponing to 46 is: 0.9559705908057593\n",
      "r2score corresponing to 47 is: 0.9489014079544582\n",
      "r2score corresponing to 48 is: 0.942887206251859\n",
      "r2score corresponing to 49 is: 0.9532770774976166\n",
      "r2score corresponing to 50 is: 0.9267018983627617\n",
      "r2score corresponing to 51 is: 0.9622030649150688\n",
      "r2score corresponing to 52 is: 0.9765689713778435\n",
      "r2score corresponing to 53 is: 0.9380038084215909\n",
      "r2score corresponing to 54 is: 0.9722963035020789\n",
      "r2score corresponing to 55 is: 0.9595402378859992\n",
      "r2score corresponing to 56 is: 0.9613113541026064\n",
      "r2score corresponing to 57 is: 0.9364455419597014\n",
      "r2score corresponing to 58 is: 0.9722310652075858\n",
      "r2score corresponing to 59 is: 0.9435298563614953\n",
      "r2score corresponing to 60 is: 0.9771469406433596\n",
      "r2score corresponing to 61 is: 0.9442741188733333\n",
      "r2score corresponing to 62 is: 0.9304923702388727\n",
      "r2score corresponing to 63 is: 0.9592359811622204\n",
      "r2score corresponing to 64 is: 0.9123049315048708\n",
      "r2score corresponing to 65 is: 0.9624084543144111\n",
      "r2score corresponing to 66 is: 0.9733735130495244\n",
      "r2score corresponing to 67 is: 0.9341494140989302\n",
      "r2score corresponing to 68 is: 0.9441751742701681\n",
      "r2score corresponing to 69 is: 0.9644974258736747\n",
      "r2score corresponing to 70 is: 0.9624884065276481\n",
      "r2score corresponing to 71 is: 0.9416386151155258\n",
      "r2score corresponing to 72 is: 0.9684807020803392\n",
      "r2score corresponing to 73 is: 0.9504415612472998\n",
      "r2score corresponing to 74 is: 0.9714463163915683\n",
      "r2score corresponing to 75 is: 0.9367883386037623\n",
      "r2score corresponing to 76 is: 0.9720709513177732\n",
      "r2score corresponing to 77 is: 0.9502620153019763\n",
      "r2score corresponing to 78 is: 0.9287590761484292\n",
      "r2score corresponing to 79 is: 0.9741189934762167\n",
      "r2score corresponing to 80 is: 0.9561128068817455\n",
      "r2score corresponing to 81 is: 0.9706742039107492\n",
      "r2score corresponing to 82 is: 0.9601920426236833\n",
      "r2score corresponing to 83 is: 0.9633736836826166\n",
      "r2score corresponing to 84 is: 0.9735117917295606\n",
      "r2score corresponing to 85 is: 0.9196980236507222\n",
      "r2score corresponing to 86 is: 0.9492562330268335\n",
      "r2score corresponing to 87 is: 0.933160828512257\n",
      "r2score corresponing to 88 is: 0.9447167323164419\n",
      "r2score corresponing to 89 is: 0.9348414708708184\n",
      "r2score corresponing to 90 is: 0.9803045782940697\n",
      "r2score corresponing to 91 is: 0.9562495624635119\n",
      "r2score corresponing to 92 is: 0.9612755393154603\n",
      "r2score corresponing to 93 is: 0.9386414189767991\n",
      "r2score corresponing to 94 is: 0.9717693263670537\n",
      "r2score corresponing to 95 is: 0.9447640947491591\n",
      "r2score corresponing to 96 is: 0.9248406618263063\n",
      "r2score corresponing to 97 is: 0.9516228131439146\n",
      "r2score corresponing to 98 is: 0.9425524230385179\n",
      "r2score corresponing to 99 is: 0.9475515179101975\n",
      "r2score corresponing to 100 is: 0.9196050516769233\n",
      "\n",
      "\n",
      "max r2_score corresponding to  90 is 0.9803045782940697\n"
     ]
    }
   ],
   "source": [
    "#calling the function\n",
    "dtr=DecisionTreeRegressor(random_state=13)\n",
    "r_state=maxr2_score(dtr,x,y)"
   ]
  },
  {
   "cell_type": "code",
   "execution_count": 40,
   "metadata": {},
   "outputs": [
    {
     "name": "stdout",
     "output_type": "stream",
     "text": [
      "mean r2 score of linearRegression : 0.8862866381230523\n",
      "stadard deviation for r2 score of linearRegression : 0.04012470888401666\n",
      "\n",
      "\n",
      "mean r2 score of knr: 0.9325169507500093\n",
      "standard deviation of r2score for knr: 0.029104711761215662\n",
      "\n",
      "\n",
      "\n",
      "\n",
      "mean r2 score of DecisionTreeRegression : 0.9537292996104696\n",
      "stadard deviation for r2 score of DecisionTreeeRegression : 0.012368586498258921\n"
     ]
    }
   ],
   "source": [
    "#cross validation for bias-variance tradeoff using cross_val_score\n",
    "from sklearn.model_selection import cross_val_score\n",
    "import numpy as np\n",
    "regr_score_mean=cross_val_score(reg,x,y,cv=5,scoring=\"r2\").mean()\n",
    "regr_score_std=cross_val_score(reg,x,y,cv=5,scoring=\"r2\").std()\n",
    "print(\"mean r2 score of linearRegression :\",regr_score_mean)\n",
    "print(\"stadard deviation for r2 score of linearRegression :\",regr_score_std)\n",
    "print('\\n')\n",
    "knr_score_mean=cross_val_score(knr,x,y,cv=5,scoring=\"r2\").mean()\n",
    "knr_score_std=cross_val_score(knr,x,y,cv=5,scoring=\"r2\").std()\n",
    "print(\"mean r2 score of knr:\",knr_score_mean)\n",
    "print(\"standard deviation of r2score for knr:\",knr_score_std)\n",
    "print('\\n')\n",
    "dtr_score_mean=cross_val_score(dtr,x,y,cv=5,scoring=\"r2\").mean()\n",
    "dtr_score_std=cross_val_score(dtr,x,y,cv=5,scoring=\"r2\").std()\n",
    "print('\\n')\n",
    "print(\"mean r2 score of DecisionTreeRegression :\",dtr_score_mean)\n",
    "print(\"stadard deviation for r2 score of DecisionTreeeRegression :\",dtr_score_std)"
   ]
  },
  {
   "cell_type": "code",
   "execution_count": 41,
   "metadata": {},
   "outputs": [
    {
     "data": {
      "text/plain": [
       "{'alpha': 1}"
      ]
     },
     "execution_count": 41,
     "metadata": {},
     "output_type": "execute_result"
    }
   ],
   "source": [
    "#Using GridSearchCV With Ridge Operation\n",
    "\n",
    "from sklearn.linear_model import Ridge\n",
    "r_reg=Ridge()\n",
    "parameters={\"alpha\":[0.001,0.01,0.1,1]}\n",
    "clf=GridSearchCV(r_reg,parameters,cv=10)\n",
    "clf.fit(x,y)\n",
    "clf.best_params_"
   ]
  },
  {
   "cell_type": "code",
   "execution_count": 42,
   "metadata": {},
   "outputs": [],
   "source": [
    "#creating a function to find the maximum r2score corresponding to random_state\n",
    "def maxr2_score(r_reg,df_x,y):\n",
    "    maxr_score=0\n",
    "    for r_state in range(42,101):\n",
    "        x_train,x_test,y_train,y_test=train_test_split(x,y,random_state=r_state,test_size=0.20)\n",
    "        r_reg=Ridge(alpha=1)\n",
    "        r_reg.fit(x_train,y_train)\n",
    "        y_predict=r_reg.predict(x_test)\n",
    "        r2_scr=r2_score(y_test,y_predict)\n",
    "        print(\"r2score corresponing to\",r_state,\"is:\",r2_scr)\n",
    "        if r2_scr>maxr_score:\n",
    "            maxr_score=r2_scr\n",
    "            final_r_state=r_state\n",
    "    print()\n",
    "    print()\n",
    "    print(\"max r2_score corresponding to \",final_r_state,\"is\",maxr_score) \n",
    "    return final_r_state"
   ]
  },
  {
   "cell_type": "code",
   "execution_count": 43,
   "metadata": {},
   "outputs": [
    {
     "name": "stdout",
     "output_type": "stream",
     "text": [
      "r2score corresponing to 42 is: 0.896222670954762\n",
      "r2score corresponing to 43 is: 0.8752324590996761\n",
      "r2score corresponing to 44 is: 0.8157043874203379\n",
      "r2score corresponing to 45 is: 0.8757401997013389\n",
      "r2score corresponing to 46 is: 0.876220555523596\n",
      "r2score corresponing to 47 is: 0.8930063722232614\n",
      "r2score corresponing to 48 is: 0.8693156621842536\n",
      "r2score corresponing to 49 is: 0.8355358407647514\n",
      "r2score corresponing to 50 is: 0.8432789491616395\n",
      "r2score corresponing to 51 is: 0.8947966317559177\n",
      "r2score corresponing to 52 is: 0.8939421187857971\n",
      "r2score corresponing to 53 is: 0.8521066658029521\n",
      "r2score corresponing to 54 is: 0.8776087711763499\n",
      "r2score corresponing to 55 is: 0.8992199032485657\n",
      "r2score corresponing to 56 is: 0.8444921262602378\n",
      "r2score corresponing to 57 is: 0.8674531765653811\n",
      "r2score corresponing to 58 is: 0.9301620693582191\n",
      "r2score corresponing to 59 is: 0.9172663798675266\n",
      "r2score corresponing to 60 is: 0.8824382221231959\n",
      "r2score corresponing to 61 is: 0.8554104504661895\n",
      "r2score corresponing to 62 is: 0.8580637544361676\n",
      "r2score corresponing to 63 is: 0.8961707092679926\n",
      "r2score corresponing to 64 is: 0.9269159924132361\n",
      "r2score corresponing to 65 is: 0.8832174529240253\n",
      "r2score corresponing to 66 is: 0.8780798046420684\n",
      "r2score corresponing to 67 is: 0.9051269969886474\n",
      "r2score corresponing to 68 is: 0.8663722726793903\n",
      "r2score corresponing to 69 is: 0.9072358934173583\n",
      "r2score corresponing to 70 is: 0.9209587578188728\n",
      "r2score corresponing to 71 is: 0.8092115242876369\n",
      "r2score corresponing to 72 is: 0.9202895693711282\n",
      "r2score corresponing to 73 is: 0.8850930484371671\n",
      "r2score corresponing to 74 is: 0.9290296688040289\n",
      "r2score corresponing to 75 is: 0.8766133482347662\n",
      "r2score corresponing to 76 is: 0.8522840962138687\n",
      "r2score corresponing to 77 is: 0.9182266206974589\n",
      "r2score corresponing to 78 is: 0.7894692902274325\n",
      "r2score corresponing to 79 is: 0.8997232640444649\n",
      "r2score corresponing to 80 is: 0.9041688698598899\n",
      "r2score corresponing to 81 is: 0.9202265415862882\n",
      "r2score corresponing to 82 is: 0.8421100807800077\n",
      "r2score corresponing to 83 is: 0.878361496536916\n",
      "r2score corresponing to 84 is: 0.9263175945725036\n",
      "r2score corresponing to 85 is: 0.7702727682749078\n",
      "r2score corresponing to 86 is: 0.90656766475207\n",
      "r2score corresponing to 87 is: 0.811338305178048\n",
      "r2score corresponing to 88 is: 0.8831042399315421\n",
      "r2score corresponing to 89 is: 0.8467377826191337\n",
      "r2score corresponing to 90 is: 0.9452912396533694\n",
      "r2score corresponing to 91 is: 0.8961751624436871\n",
      "r2score corresponing to 92 is: 0.8934748138367062\n",
      "r2score corresponing to 93 is: 0.8446161835642397\n",
      "r2score corresponing to 94 is: 0.8683437591823178\n",
      "r2score corresponing to 95 is: 0.8472192423473591\n",
      "r2score corresponing to 96 is: 0.8536935014681841\n",
      "r2score corresponing to 97 is: 0.8971795302633674\n",
      "r2score corresponing to 98 is: 0.8417100475772366\n",
      "r2score corresponing to 99 is: 0.92878126593958\n",
      "r2score corresponing to 100 is: 0.8590354054560728\n",
      "\n",
      "\n",
      "max r2_score corresponding to  90 is 0.9452912396533694\n"
     ]
    }
   ],
   "source": [
    "#calling Ridge function\n",
    "r_reg=Ridge(alpha=1)\n",
    "r_state=maxr2_score(r_reg,x,y)"
   ]
  },
  {
   "cell_type": "code",
   "execution_count": 44,
   "metadata": {},
   "outputs": [
    {
     "name": "stdout",
     "output_type": "stream",
     "text": [
      "mean r2score for RidgeRegression: 0.8863664474646822\n",
      "standard deviation in r2score for RidgeRegression: 0.04055359535606302\n"
     ]
    }
   ],
   "source": [
    "#cross validation for Bias_variance tradeoff using cross_val_score\n",
    "r_reg_score_mean=cross_val_score(r_reg,x,y,cv=5,scoring=\"r2\").mean()\n",
    "r_reg_score_std=cross_val_score(r_reg,x,y,cv=5,scoring=\"r2\").std()\n",
    "print(\"mean r2score for RidgeRegression:\",r_reg_score_mean)\n",
    "print(\"standard deviation in r2score for RidgeRegression:\",r_reg_score_std)"
   ]
  },
  {
   "cell_type": "code",
   "execution_count": 45,
   "metadata": {},
   "outputs": [
    {
     "data": {
      "text/plain": [
       "{'alpha': 0.1}"
      ]
     },
     "execution_count": 45,
     "metadata": {},
     "output_type": "execute_result"
    }
   ],
   "source": [
    "#Using GridSearchCV with Lasso Operation\n",
    "\n",
    "import warnings\n",
    "warnings.filterwarnings('ignore')\n",
    "from sklearn.linear_model import Lasso\n",
    "lsreg=Lasso()\n",
    "parameters={\"alpha\":[0.001,0.01,0.1,1]}\n",
    "clf=GridSearchCV(lsreg,parameters,cv=10)\n",
    "clf.fit(x,y)\n",
    "clf.best_params_"
   ]
  },
  {
   "cell_type": "code",
   "execution_count": 46,
   "metadata": {},
   "outputs": [],
   "source": [
    "#creating a function to find the maximum r2score corresponding to random_state\n",
    "def maxr2_score(lsreg,x,y):\n",
    "    maxr_score=0\n",
    "    for r_state in range(42,101):\n",
    "        x_train,x_test,y_train,y_test=train_test_split(x,y,random_state=r_state,test_size=0.20)\n",
    "        lsreg=Lasso(alpha=0.1)\n",
    "        lsreg.fit(x_train,y_train)\n",
    "        y_predict=lsreg.predict(x_test)\n",
    "        r2_scr=r2_score(y_test,y_predict)\n",
    "        print(\"r2score corresponing to\",r_state,\"is:\",r2_scr)\n",
    "        if r2_scr>maxr_score:\n",
    "            maxr_score=r2_scr\n",
    "            final_r_state=r_state\n",
    "    print()\n",
    "    print()\n",
    "    print(\"max r2_score corresponding to \",final_r_state,\"is\",maxr_score) \n",
    "    return final_r_state"
   ]
  },
  {
   "cell_type": "code",
   "execution_count": 47,
   "metadata": {},
   "outputs": [
    {
     "name": "stdout",
     "output_type": "stream",
     "text": [
      "r2score corresponing to 42 is: 0.8963382629629065\n",
      "r2score corresponing to 43 is: 0.8748274285562571\n",
      "r2score corresponing to 44 is: 0.821964418062779\n",
      "r2score corresponing to 45 is: 0.8790722914669622\n",
      "r2score corresponing to 46 is: 0.8775666960378301\n",
      "r2score corresponing to 47 is: 0.8957580511531972\n",
      "r2score corresponing to 48 is: 0.8698158257018274\n",
      "r2score corresponing to 49 is: 0.8368871187315301\n",
      "r2score corresponing to 50 is: 0.8454831532120928\n",
      "r2score corresponing to 51 is: 0.8990117954103002\n",
      "r2score corresponing to 52 is: 0.8958286153769411\n",
      "r2score corresponing to 53 is: 0.8518482932500415\n",
      "r2score corresponing to 54 is: 0.876980803147764\n",
      "r2score corresponing to 55 is: 0.8966769669622391\n",
      "r2score corresponing to 56 is: 0.8415696924636991\n",
      "r2score corresponing to 57 is: 0.8700531371333975\n",
      "r2score corresponing to 58 is: 0.9289149990637448\n",
      "r2score corresponing to 59 is: 0.9163151919913557\n",
      "r2score corresponing to 60 is: 0.8801430063716252\n",
      "r2score corresponing to 61 is: 0.8551202968872668\n",
      "r2score corresponing to 62 is: 0.8598800808647138\n",
      "r2score corresponing to 63 is: 0.8977073220948375\n",
      "r2score corresponing to 64 is: 0.9284868429078285\n",
      "r2score corresponing to 65 is: 0.8818699681447263\n",
      "r2score corresponing to 66 is: 0.8798167550061156\n",
      "r2score corresponing to 67 is: 0.9046713571516178\n",
      "r2score corresponing to 68 is: 0.8669674499329241\n",
      "r2score corresponing to 69 is: 0.9079746135093784\n",
      "r2score corresponing to 70 is: 0.9206413738593611\n",
      "r2score corresponing to 71 is: 0.8107096369008979\n",
      "r2score corresponing to 72 is: 0.921547027662305\n",
      "r2score corresponing to 73 is: 0.8859439188430773\n",
      "r2score corresponing to 74 is: 0.9235677379405508\n",
      "r2score corresponing to 75 is: 0.8759695712700271\n",
      "r2score corresponing to 76 is: 0.8500553816373546\n",
      "r2score corresponing to 77 is: 0.9212060581336319\n",
      "r2score corresponing to 78 is: 0.7888367503863347\n",
      "r2score corresponing to 79 is: 0.8982350321587199\n",
      "r2score corresponing to 80 is: 0.9065711107408589\n",
      "r2score corresponing to 81 is: 0.9199058472103132\n",
      "r2score corresponing to 82 is: 0.8445756374212661\n",
      "r2score corresponing to 83 is: 0.8756506933391401\n",
      "r2score corresponing to 84 is: 0.9265329753709769\n",
      "r2score corresponing to 85 is: 0.7738165835671043\n",
      "r2score corresponing to 86 is: 0.907913585233876\n",
      "r2score corresponing to 87 is: 0.8098659231652563\n",
      "r2score corresponing to 88 is: 0.8808753791479955\n",
      "r2score corresponing to 89 is: 0.8499507767597355\n",
      "r2score corresponing to 90 is: 0.9436212743823154\n",
      "r2score corresponing to 91 is: 0.8941474880655795\n",
      "r2score corresponing to 92 is: 0.8931305476779863\n",
      "r2score corresponing to 93 is: 0.8423456096853021\n",
      "r2score corresponing to 94 is: 0.8652297008967426\n",
      "r2score corresponing to 95 is: 0.8448396548568596\n",
      "r2score corresponing to 96 is: 0.8562126330050531\n",
      "r2score corresponing to 97 is: 0.8961035417161242\n",
      "r2score corresponing to 98 is: 0.8401915909913484\n",
      "r2score corresponing to 99 is: 0.925021849325458\n",
      "r2score corresponing to 100 is: 0.8606066193788987\n",
      "\n",
      "\n",
      "max r2_score corresponding to  90 is 0.9436212743823154\n"
     ]
    }
   ],
   "source": [
    "#calling the function\n",
    "lsreg=Lasso(alpha=0.1)\n",
    "r_state=maxr2_score(lsreg,x,y)"
   ]
  },
  {
   "cell_type": "code",
   "execution_count": 48,
   "metadata": {},
   "outputs": [
    {
     "name": "stdout",
     "output_type": "stream",
     "text": [
      "mean r2score for Lasso: 0.887080336727913\n",
      "standard deviation in r2score for lasso: 0.04023200615247\n"
     ]
    }
   ],
   "source": [
    "#cross validation for Bias_variance tradeoff using cross_val_score\n",
    "Lsreg_score_mean=cross_val_score(lsreg,x,y,cv=5,scoring=\"r2\").mean()\n",
    "Lsreg_score_std=cross_val_score(lsreg,x,y,cv=5,scoring=\"r2\").std()\n",
    "print(\"mean r2score for Lasso:\",Lsreg_score_mean)\n",
    "print(\"standard deviation in r2score for lasso:\",Lsreg_score_std)"
   ]
  },
  {
   "cell_type": "code",
   "execution_count": 49,
   "metadata": {},
   "outputs": [
    {
     "data": {
      "text/plain": [
       "{'learning_rate': 0.1, 'n_estimators': 500}"
      ]
     },
     "execution_count": 49,
     "metadata": {},
     "output_type": "execute_result"
    }
   ],
   "source": [
    "#Using GradientBoosting Algorithm\n",
    "\n",
    "from sklearn.ensemble import GradientBoostingRegressor\n",
    "import warnings\n",
    "warnings.filterwarnings(\"ignore\")\n",
    "gbr=GradientBoostingRegressor()\n",
    "parameters={\"learning_rate\":[0.001,0.01,0.1,1],\"n_estimators\":[10,100,500,1000]}\n",
    "clf=GridSearchCV(gbr,parameters,cv=5)\n",
    "clf.fit(x,y)\n",
    "clf.best_params_"
   ]
  },
  {
   "cell_type": "code",
   "execution_count": 50,
   "metadata": {},
   "outputs": [],
   "source": [
    "#creating a function to find the maximum r2score corresponding to random_state\n",
    "def maxr2_score(gbr,x,y):\n",
    "    maxr_score=0\n",
    "    for r_state in range(42,101):\n",
    "        x_train,x_test,y_train,y_test=train_test_split(x,y,random_state=r_state,test_size=0.20)\n",
    "        gbr=GradientBoostingRegressor(learning_rate=0.1, n_estimators=500)\n",
    "        gbr.fit(x_train,y_train)\n",
    "        y_predict=gbr.predict(x_test)\n",
    "        r2_scr=r2_score(y_test,y_predict)\n",
    "        print(\"r2score corresponing to\",r_state,\"is:\",r2_scr)\n",
    "        if r2_scr>maxr_score:\n",
    "            maxr_score=r2_scr\n",
    "            final_r_state=r_state\n",
    "    print()\n",
    "    print()\n",
    "    print(\"max r2_score corresponding to \",final_r_state,\"is\",maxr_score) \n",
    "    return final_r_state"
   ]
  },
  {
   "cell_type": "code",
   "execution_count": 51,
   "metadata": {},
   "outputs": [
    {
     "name": "stdout",
     "output_type": "stream",
     "text": [
      "r2score corresponing to 42 is: 0.985916825105367\n",
      "r2score corresponing to 43 is: 0.9732912000982206\n",
      "r2score corresponing to 44 is: 0.9658802021625226\n",
      "r2score corresponing to 45 is: 0.9735939091760488\n",
      "r2score corresponing to 46 is: 0.9775034014946065\n",
      "r2score corresponing to 47 is: 0.974056065325211\n",
      "r2score corresponing to 48 is: 0.9767368414663194\n",
      "r2score corresponing to 49 is: 0.9729641087440617\n",
      "r2score corresponing to 50 is: 0.9838689032420324\n",
      "r2score corresponing to 51 is: 0.9830744903879061\n",
      "r2score corresponing to 52 is: 0.9855866683749015\n",
      "r2score corresponing to 53 is: 0.9631098959561898\n",
      "r2score corresponing to 54 is: 0.9853333851070982\n",
      "r2score corresponing to 55 is: 0.9884051194324251\n",
      "r2score corresponing to 56 is: 0.9682050763980584\n",
      "r2score corresponing to 57 is: 0.9588599465624552\n",
      "r2score corresponing to 58 is: 0.9887149967827904\n",
      "r2score corresponing to 59 is: 0.9834118042530381\n",
      "r2score corresponing to 60 is: 0.9726718442209429\n",
      "r2score corresponing to 61 is: 0.9687972237316561\n",
      "r2score corresponing to 62 is: 0.971362112627341\n",
      "r2score corresponing to 63 is: 0.9813676639335227\n",
      "r2score corresponing to 64 is: 0.9798864545416551\n",
      "r2score corresponing to 65 is: 0.9868705076514974\n",
      "r2score corresponing to 66 is: 0.9708474328018041\n",
      "r2score corresponing to 67 is: 0.9735148089767662\n",
      "r2score corresponing to 68 is: 0.9779338273306104\n",
      "r2score corresponing to 69 is: 0.9887301673213744\n",
      "r2score corresponing to 70 is: 0.9876931196203154\n",
      "r2score corresponing to 71 is: 0.978969679547277\n",
      "r2score corresponing to 72 is: 0.9836238244602208\n",
      "r2score corresponing to 73 is: 0.9745417821157957\n",
      "r2score corresponing to 74 is: 0.9899149333367709\n",
      "r2score corresponing to 75 is: 0.9778754144435149\n",
      "r2score corresponing to 76 is: 0.9832429891387389\n",
      "r2score corresponing to 77 is: 0.98195606197361\n",
      "r2score corresponing to 78 is: 0.9353264032266342\n",
      "r2score corresponing to 79 is: 0.9882461038312921\n",
      "r2score corresponing to 80 is: 0.987348365349156\n",
      "r2score corresponing to 81 is: 0.986225328618488\n",
      "r2score corresponing to 82 is: 0.962152672408066\n",
      "r2score corresponing to 83 is: 0.9695823049739072\n",
      "r2score corresponing to 84 is: 0.9835776472635561\n",
      "r2score corresponing to 85 is: 0.9619819463455729\n",
      "r2score corresponing to 86 is: 0.9830322213009566\n",
      "r2score corresponing to 87 is: 0.9580466401354736\n",
      "r2score corresponing to 88 is: 0.9807896790738759\n",
      "r2score corresponing to 89 is: 0.9756324104930294\n",
      "r2score corresponing to 90 is: 0.9796670725172452\n",
      "r2score corresponing to 91 is: 0.981518068183501\n",
      "r2score corresponing to 92 is: 0.9845155905740786\n",
      "r2score corresponing to 93 is: 0.9631874025148109\n",
      "r2score corresponing to 94 is: 0.9719283904938864\n",
      "r2score corresponing to 95 is: 0.965828656552812\n",
      "r2score corresponing to 96 is: 0.9785849652703501\n",
      "r2score corresponing to 97 is: 0.9849578169446126\n",
      "r2score corresponing to 98 is: 0.9605516079610729\n",
      "r2score corresponing to 99 is: 0.9863741106002565\n",
      "r2score corresponing to 100 is: 0.9619286737696393\n",
      "\n",
      "\n",
      "max r2_score corresponding to  74 is 0.9899149333367709\n"
     ]
    }
   ],
   "source": [
    "#calling the function\n",
    "gbr=GradientBoostingRegressor(learning_rate=0.1,n_estimators=500)\n",
    "r_state=maxr2_score(gbr,x,y)"
   ]
  },
  {
   "cell_type": "code",
   "execution_count": 52,
   "metadata": {},
   "outputs": [
    {
     "name": "stdout",
     "output_type": "stream",
     "text": [
      "mean r2score for GradientBoostRegression: 0.9785141639452591\n",
      "standard deviation in r2score for GradientBoostRegression: 0.007862444556426386\n"
     ]
    }
   ],
   "source": [
    "#cross validation for Bias_variance tradeoff using cross_val_score\n",
    "gbr_score_mean=cross_val_score(gbr,x,y,cv=5,scoring=\"r2\").mean()\n",
    "gbr_score_std=cross_val_score(gbr,x,y,cv=5,scoring=\"r2\").std()\n",
    "print(\"mean r2score for GradientBoostRegression:\",gbr_score_mean)\n",
    "print(\"standard deviation in r2score for GradientBoostRegression:\",gbr_score_std)"
   ]
  },
  {
   "cell_type": "code",
   "execution_count": 53,
   "metadata": {},
   "outputs": [
    {
     "data": {
      "text/plain": [
       "{'base_estimator': DecisionTreeRegressor(criterion='mse', max_depth=None, max_features=None,\n",
       "            max_leaf_nodes=None, min_impurity_decrease=0.0,\n",
       "            min_impurity_split=None, min_samples_leaf=1,\n",
       "            min_samples_split=2, min_weight_fraction_leaf=0.0,\n",
       "            presort=False, random_state=None, splitter='best'),\n",
       " 'learning_rate': 1,\n",
       " 'n_estimators': 500}"
      ]
     },
     "execution_count": 53,
     "metadata": {},
     "output_type": "execute_result"
    }
   ],
   "source": [
    "#Using ADABoost Regressor\n",
    "\n",
    "from sklearn.ensemble import AdaBoostRegressor\n",
    "ada_reg=AdaBoostRegressor()\n",
    "parameters={\"learning_rate\":[0.001,0.01,0.1,1],\"n_estimators\":[10,100,500,1000],\"base_estimator\":[reg,lsreg,DecisionTreeRegressor()]}\n",
    "clf=GridSearchCV(ada_reg,parameters,cv=5)\n",
    "clf.fit(x,y)\n",
    "clf.best_params_"
   ]
  },
  {
   "cell_type": "code",
   "execution_count": 56,
   "metadata": {},
   "outputs": [],
   "source": [
    "#creating a function to find the maximum r2score corresponding to random_state\n",
    "def maxr2_score(ada_reg,x,y):\n",
    "    maxr_score=0\n",
    "    for r_state in range(42,101):\n",
    "        x_train,x_test,y_train,y_test=train_test_split(x,y,random_state=r_state,test_size=0.20)\n",
    "        ada_reg=AdaBoostRegressor(learning_rate=1,n_estimators=500,base_estimator=DecisionTreeRegressor(criterion='mse', max_depth=None, max_features=None,\n",
    "            max_leaf_nodes=None, min_impurity_decrease=0.0,\n",
    "            min_impurity_split=None, min_samples_leaf=1,\n",
    "            min_samples_split=2, min_weight_fraction_leaf=0.0,\n",
    "            presort=False, random_state=None, splitter='best'))\n",
    "        ada_reg.fit(x_train,y_train)\n",
    "        y_predict=ada_reg.predict(x_test)\n",
    "        r2_scr=r2_score(y_test,y_predict)\n",
    "        print(\"r2score corresponing to\",r_state,\"is:\",r2_scr)\n",
    "        if r2_scr>maxr_score:\n",
    "            maxr_score=r2_scr\n",
    "            final_r_state=r_state\n",
    "    print()\n",
    "    print()\n",
    "    print(\"max r2_score corresponding to \",final_r_state,\"is\",maxr_score) \n",
    "    return final_r_state"
   ]
  },
  {
   "cell_type": "code",
   "execution_count": 54,
   "metadata": {},
   "outputs": [
    {
     "name": "stdout",
     "output_type": "stream",
     "text": [
      "r2score corresponing to 42 is: 0.9859322417250439\n",
      "r2score corresponing to 43 is: 0.9733577577812595\n",
      "r2score corresponing to 44 is: 0.9654622747690927\n",
      "r2score corresponing to 45 is: 0.9733129173776467\n",
      "r2score corresponing to 46 is: 0.9770633463796355\n",
      "r2score corresponing to 47 is: 0.974277033409613\n",
      "r2score corresponing to 48 is: 0.9767727154025041\n",
      "r2score corresponing to 49 is: 0.9732194365966499\n",
      "r2score corresponing to 50 is: 0.9837259287867202\n",
      "r2score corresponing to 51 is: 0.9829346210631715\n",
      "r2score corresponing to 52 is: 0.9863676081708052\n",
      "r2score corresponing to 53 is: 0.9629911787872459\n",
      "r2score corresponing to 54 is: 0.9854991406287334\n",
      "r2score corresponing to 55 is: 0.9884937471621246\n",
      "r2score corresponing to 56 is: 0.9680393632928994\n",
      "r2score corresponing to 57 is: 0.9586092490608924\n",
      "r2score corresponing to 58 is: 0.9886071340278866\n",
      "r2score corresponing to 59 is: 0.9833470522710317\n",
      "r2score corresponing to 60 is: 0.9731287064683364\n",
      "r2score corresponing to 61 is: 0.9688097641106334\n",
      "r2score corresponing to 62 is: 0.9714868437510681\n",
      "r2score corresponing to 63 is: 0.9814627483759601\n",
      "r2score corresponing to 64 is: 0.9798861328770275\n",
      "r2score corresponing to 65 is: 0.9874767021263829\n",
      "r2score corresponing to 66 is: 0.9685082067300042\n",
      "r2score corresponing to 67 is: 0.9736355217928904\n",
      "r2score corresponing to 68 is: 0.9780077982893534\n",
      "r2score corresponing to 69 is: 0.9884707808478393\n",
      "r2score corresponing to 70 is: 0.9876719935416091\n",
      "r2score corresponing to 71 is: 0.9791152028310076\n",
      "r2score corresponing to 72 is: 0.983533841297021\n",
      "r2score corresponing to 73 is: 0.9745017900734353\n",
      "r2score corresponing to 74 is: 0.9900438614930165\n",
      "r2score corresponing to 75 is: 0.9778407817183772\n",
      "r2score corresponing to 76 is: 0.9832033908398009\n",
      "r2score corresponing to 77 is: 0.9820397289992785\n",
      "r2score corresponing to 78 is: 0.9377738469946896\n",
      "r2score corresponing to 79 is: 0.9882652620762281\n",
      "r2score corresponing to 80 is: 0.9876889792982705\n",
      "r2score corresponing to 81 is: 0.9862265035836094\n",
      "r2score corresponing to 82 is: 0.9619346639825797\n",
      "r2score corresponing to 83 is: 0.9698592413048795\n",
      "r2score corresponing to 84 is: 0.9836293089042207\n",
      "r2score corresponing to 85 is: 0.9620435144105894\n",
      "r2score corresponing to 86 is: 0.9831323243933767\n",
      "r2score corresponing to 87 is: 0.9590325993637528\n",
      "r2score corresponing to 88 is: 0.9809085788077171\n",
      "r2score corresponing to 89 is: 0.9760570121089823\n",
      "r2score corresponing to 90 is: 0.9797282534021476\n",
      "r2score corresponing to 91 is: 0.9816257202384868\n",
      "r2score corresponing to 92 is: 0.9847897691430834\n",
      "r2score corresponing to 93 is: 0.963370778453073\n",
      "r2score corresponing to 94 is: 0.974314869209722\n",
      "r2score corresponing to 95 is: 0.9659524928931742\n",
      "r2score corresponing to 96 is: 0.9792303203225072\n",
      "r2score corresponing to 97 is: 0.984926054071896\n",
      "r2score corresponing to 98 is: 0.9604382149327133\n",
      "r2score corresponing to 99 is: 0.9864056138221694\n",
      "r2score corresponing to 100 is: 0.9620229024432064\n",
      "\n",
      "\n",
      "max r2_score corresponding to  74 is 0.9900438614930165\n"
     ]
    }
   ],
   "source": [
    "#calling the function\n",
    "ada_reg=AdaBoostRegressor(learning_rate=1,n_estimators=500,base_estimator=DecisionTreeRegressor(criterion='mse', max_depth=None, max_features=None,\n",
    "            max_leaf_nodes=None, min_impurity_decrease=0.0,\n",
    "            min_impurity_split=None, min_samples_leaf=1,\n",
    "            min_samples_split=2, min_weight_fraction_leaf=0.0,\n",
    "            presort=False, random_state=None, splitter='best'))\n",
    "r_state=maxr2_score(ada_reg,x,y)"
   ]
  },
  {
   "cell_type": "code",
   "execution_count": 55,
   "metadata": {},
   "outputs": [
    {
     "name": "stdout",
     "output_type": "stream",
     "text": [
      "mean r2score for AdaBoostRegressor: 0.9745560513294418\n",
      "standard deviationof  r2score for AdaBoostRegressor: 0.0036045930503479187\n"
     ]
    }
   ],
   "source": [
    "#cross validation for Bias_variance tradeoff using cross_val_score\n",
    "print(\"mean r2score for AdaBoostRegressor:\",cross_val_score(ada_reg,x,y,cv=5,scoring=\"r2\").mean())\n",
    "print(\"standard deviationof  r2score for AdaBoostRegressor:\",cross_val_score(ada_reg,x,y,cv=5,scoring=\"r2\").std())"
   ]
  },
  {
   "cell_type": "markdown",
   "metadata": {},
   "source": [
    "#ADABoostRegressor gives the best r2score of 0.99 corresponding to random_state 74 so with the change in random state and fitting the traing data using ADABoostRegressor and using Predict function on the testing data."
   ]
  },
  {
   "cell_type": "code",
   "execution_count": 56,
   "metadata": {},
   "outputs": [],
   "source": [
    "x_train,x_test,y_train,y_test=train_test_split(x,y,random_state=74,test_size=0.20)\n",
    "ada_reg.fit(x_train,y_train)\n",
    "y_pred=ada_reg.predict(x_test)"
   ]
  },
  {
   "cell_type": "code",
   "execution_count": 57,
   "metadata": {},
   "outputs": [
    {
     "name": "stdout",
     "output_type": "stream",
     "text": [
      "r2score is 0.9828730254404617\n",
      "root mean squared error is 0.8088572185497263\n"
     ]
    }
   ],
   "source": [
    "print(\"r2score is\",r2_score(y_test,y_pred))\n",
    "print(\"root mean squared error is\",np.sqrt(mean_squared_error(y_test,y_pred)))"
   ]
  },
  {
   "cell_type": "code",
   "execution_count": 58,
   "metadata": {},
   "outputs": [
    {
     "data": {
      "text/plain": [
       "['adareg_chsales.pkl']"
      ]
     },
     "execution_count": 58,
     "metadata": {},
     "output_type": "execute_result"
    }
   ],
   "source": [
    "#save the model\n",
    "from sklearn.externals import joblib\n",
    "joblib.dump(ada_reg,\"adareg_chsales.pkl\")"
   ]
  },
  {
   "cell_type": "code",
   "execution_count": 59,
   "metadata": {},
   "outputs": [],
   "source": [
    "#load the model\n",
    "model=joblib.load('adareg_chsales.pkl')"
   ]
  },
  {
   "cell_type": "code",
   "execution_count": null,
   "metadata": {},
   "outputs": [],
   "source": []
  }
 ],
 "metadata": {
  "kernelspec": {
   "display_name": "Python 3",
   "language": "python",
   "name": "python3"
  },
  "language_info": {
   "codemirror_mode": {
    "name": "ipython",
    "version": 3
   },
   "file_extension": ".py",
   "mimetype": "text/x-python",
   "name": "python",
   "nbconvert_exporter": "python",
   "pygments_lexer": "ipython3",
   "version": "3.6.5"
  }
 },
 "nbformat": 4,
 "nbformat_minor": 2
}
